{
 "cells": [
  {
   "cell_type": "markdown",
   "id": "25d7736c-ba17-4aff-b6bb-66eba20fbf4e",
   "metadata": {},
   "source": [
    "# Lab | Functions"
   ]
  },
  {
   "cell_type": "markdown",
   "id": "0c581062-8967-4d93-b06e-62833222f930",
   "metadata": {
    "tags": []
   },
   "source": [
    "## Exercise: Managing Customer Orders with Functions\n",
    "\n",
    "In the previous exercise, you improved the code for managing customer orders by using loops and flow control. Now, let's take it a step further and refactor the code by introducing functions.\n",
    "\n",
    "Follow the steps below to complete the exercise:\n",
    "\n",
    "1. Define a function named `initialize_inventory` that takes `products` as a parameter. Inside the function, implement the code for initializing the inventory dictionary using a loop and user input.\n",
    "\n",
    "2. Define a function named `get_customer_orders` that takes no parameters. Inside the function, implement the code for prompting the user to enter the product names using a loop. The function should return the `customer_orders` set.\n",
    "\n",
    "3. Define a function named `update_inventory` that takes `customer_orders` and `inventory` as parameters. Inside the function, implement the code for updating the inventory dictionary based on the customer orders.\n",
    "\n",
    "4. Define a function named `calculate_order_statistics` that takes `customer_orders` and `products` as parameters. Inside the function, implement the code for calculating the order statistics (total products ordered, and percentage of unique products ordered). The function should return these values.\n",
    "\n",
    "5. Define a function named `print_order_statistics` that takes `order_statistics` as a parameter. Inside the function, implement the code for printing the order statistics.\n",
    "\n",
    "6. Define a function named `print_updated_inventory` that takes `inventory` as a parameter. Inside the function, implement the code for printing the updated inventory.\n",
    "\n",
    "7. Call the functions in the appropriate sequence to execute the program and manage customer orders.\n",
    "\n",
    "Hints for functions:\n",
    "\n",
    "- Consider the input parameters required for each function and their return values.\n",
    "- Utilize function parameters and return values to transfer data between functions.\n",
    "- Test your functions individually to ensure they work correctly.\n",
    "\n",
    "\n"
   ]
  },
  {
   "cell_type": "code",
   "execution_count": 1,
   "id": "527b321f",
   "metadata": {},
   "outputs": [],
   "source": [
    "# Lista de productos disponibles\n",
    "productos = [\"t-shirt\", \"mug\", \"hat\", \"book\", \"keychain\"]"
   ]
  },
  {
   "cell_type": "code",
   "execution_count": 2,
   "id": "13822252",
   "metadata": {},
   "outputs": [],
   "source": [
    "# Paso 1: Definir la función para inicializar el inventario\n",
    "def inicializar_inventario(productos):\n",
    "    inventario = {}\n",
    "    for producto in productos:\n",
    "        cantidad = int(input(f\"Introduce la cantidad disponible para {producto}: \"))\n",
    "        inventario[producto] = cantidad\n",
    "    return inventario"
   ]
  },
  {
   "cell_type": "code",
   "execution_count": 3,
   "id": "6e31a3d6",
   "metadata": {},
   "outputs": [],
   "source": [
    "# Paso 2: Definir la función para obtener los pedidos de los clientes\n",
    "def obtener_pedidos_clientes():\n",
    "    pedidos_clientes = set()\n",
    "    while True:\n",
    "        pedido = input(\"Introduce el nombre de un producto que quieres ordenar (elige de t-shirt, mug, hat, book, keychain): \").strip().lower()\n",
    "        if pedido in productos:\n",
    "            pedidos_clientes.add(pedido)\n",
    "        else:\n",
    "            print(\"Producto no válido, intenta de nuevo.\")\n",
    "        \n",
    "        continuar = input(\"¿Quieres añadir otro producto? (sí/no): \").strip().lower()\n",
    "        if continuar != 'sí':\n",
    "            break\n",
    "    return pedidos_clientes"
   ]
  },
  {
   "cell_type": "code",
   "execution_count": 4,
   "id": "a9873b4e",
   "metadata": {},
   "outputs": [],
   "source": [
    "# Paso 3: Definir la función para actualizar el inventario\n",
    "def actualizar_inventario(pedidos_clientes, inventario):\n",
    "    for producto in pedidos_clientes:\n",
    "        if producto in inventario and inventario[producto] > 0:\n",
    "            inventario[producto] -= 1\n",
    "    return inventario"
   ]
  },
  {
   "cell_type": "code",
   "execution_count": 5,
   "id": "6e937a9b",
   "metadata": {},
   "outputs": [],
   "source": [
    "# Paso 4: Definir la función para calcular las estadísticas del pedido\n",
    "def calcular_estadísticas_pedido(pedidos_clientes, inventario):\n",
    "    total_productos_pedidos = len(pedidos_clientes)\n",
    "    total_productos_disponibles = sum(inventario.values())\n",
    "    porcentaje_pedidos = (total_productos_pedidos / total_productos_disponibles) * 100 if total_productos_disponibles > 0 else 0\n",
    "    return (total_productos_pedidos, porcentaje_pedidos)"
   ]
  },
  {
   "cell_type": "code",
   "execution_count": 6,
   "id": "76420b1a",
   "metadata": {},
   "outputs": [],
   "source": [
    "# Paso 5: Definir la función para imprimir las estadísticas del pedido\n",
    "def imprimir_estadísticas_pedido(estadísticas_pedido):\n",
    "    total_productos_pedidos, porcentaje_pedidos = estadísticas_pedido\n",
    "    print(\n",
    "        f\"Estadísticas del pedido:\\n\"\n",
    "        f\"Total de productos ordenados: {total_productos_pedidos}\\n\"\n",
    "        f\"Porcentaje de productos ordenados: {porcentaje_pedidos:.2f}%\"\n",
    "    )"
   ]
  },
  {
   "cell_type": "code",
   "execution_count": 7,
   "id": "f58c5264",
   "metadata": {},
   "outputs": [],
   "source": [
    "# Paso 6: Definir la función para imprimir el inventario actualizado\n",
    "def imprimir_inventario_actualizado(inventario):\n",
    "    print(\"Inventario actualizado:\")\n",
    "    for producto, cantidad in inventario.items():\n",
    "        print(f\"{producto}: {cantidad}\")"
   ]
  },
  {
   "cell_type": "code",
   "execution_count": 8,
   "id": "0e415a4c",
   "metadata": {},
   "outputs": [],
   "source": [
    "# Paso 7: Llamar a las funciones en la secuencia apropiada\n",
    "def main():\n",
    "    inventario = inicializar_inventario(productos)\n",
    "    pedidos_clientes = obtener_pedidos_clientes()\n",
    "    inventario_actualizado = actualizar_inventario(pedidos_clientes, inventario)\n",
    "    estadísticas_pedido = calcular_estadísticas_pedido(pedidos_clientes, inventario)\n",
    "    imprimir_estadísticas_pedido(estadísticas_pedido)\n",
    "    imprimir_inventario_actualizado(inventario_actualizado)"
   ]
  },
  {
   "cell_type": "code",
   "execution_count": 10,
   "id": "8eda5c35",
   "metadata": {},
   "outputs": [
    {
     "name": "stdout",
     "output_type": "stream",
     "text": [
      "Estadísticas del pedido:\n",
      "Total de productos ordenados: 2\n",
      "Porcentaje de productos ordenados: 0.81%\n",
      "Inventario actualizado:\n",
      "t-shirt: 50\n",
      "mug: 49\n",
      "hat: 49\n",
      "book: 50\n",
      "keychain: 50\n"
     ]
    }
   ],
   "source": [
    "# Ejecutar el programa\n",
    "if __name__ == \"__main__\":\n",
    "    main()"
   ]
  }
 ],
 "metadata": {
  "kernelspec": {
   "display_name": "Python 3 (ipykernel)",
   "language": "python",
   "name": "python3"
  },
  "language_info": {
   "codemirror_mode": {
    "name": "ipython",
    "version": 3
   },
   "file_extension": ".py",
   "mimetype": "text/x-python",
   "name": "python",
   "nbconvert_exporter": "python",
   "pygments_lexer": "ipython3",
   "version": "3.12.5"
  }
 },
 "nbformat": 4,
 "nbformat_minor": 5
}
